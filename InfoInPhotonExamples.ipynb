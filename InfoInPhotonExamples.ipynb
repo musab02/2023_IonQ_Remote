{
  "cells": [
    {
      "cell_type": "code",
      "execution_count": null,
      "metadata": {
        "id": "cmct3C1-xK9d"
      },
      "outputs": [],
      "source": [
        "#Let's start by importing the required libraries\n",
        "!pip install strawberryfields\n",
        "!pip install scipy\n",
        "import numpy as np\n",
        "import strawberryfields as sf\n",
        "import matplotlib.pyplot as plt\n",
        "from scipy.special import erfc"
      ]
    },
    {
      "cell_type": "code",
      "execution_count": null,
      "metadata": {
        "id": "BQmoFql_xK9e"
      },
      "outputs": [],
      "source": [
        "#SECTION 1 STARTS HERE"
      ]
    },
    {
      "cell_type": "code",
      "execution_count": null,
      "metadata": {
        "id": "3kcg1jYFxK9e"
      },
      "outputs": [],
      "source": [
        "#Let's model a Poisson Point Process with a mean of 0.5\n",
        "mean = 1\n",
        "#Let's generate 100 samples from this Poisson Point Process\n",
        "samples = np.random.poisson(mean, 1000000)\n",
        "#Lets create a histogram of the samples\n",
        "import matplotlib.pyplot as plt\n",
        "plt.hist(samples,bins=100)"
      ]
    },
    {
      "cell_type": "code",
      "execution_count": null,
      "metadata": {
        "id": "3oXEA-IlxK9f"
      },
      "outputs": [],
      "source": [
        "#Let's plot the samples for a homodyne detection\n",
        "#Let's define the mean and variance of the Gaussian\n",
        "mu1 = 1\n",
        "var1 = 1/2\n",
        "#Let's generate 100 samples from this Gaussian\n",
        "samples1 = np.random.normal(mu1, var1, 100000)\n",
        "#Let's plot the samples\n",
        "#plt.hist(samples1,1000)\n",
        "\n",
        "#Let's plot samples for homodyne detection of another gaussian and compare the two\n",
        "#Let's define the mean and variance of the Gaussian\n",
        "mu2 = -1\n",
        "var2 = 1/2\n",
        "#Let's generate 100 samples from this Gaussian\n",
        "samples2 = np.random.normal(mu2, var2, 100000)\n",
        "#Let's plot the samples\n",
        "#plt.hist(samples2,1000)\n",
        "\n",
        "#Plot both the gaussians together\n",
        "plt.hist(samples1,1000)\n",
        "plt.hist(samples2,1000)\n",
        "#Draw a line at x=0\n",
        "plt.axvline(x=0, color='red')\n"
      ]
    },
    {
      "cell_type": "code",
      "execution_count": null,
      "metadata": {
        "id": "LGj1CoPNxK9f"
      },
      "outputs": [],
      "source": [
        "#Now let's model homodyne in Strawberry Fields\n",
        "\n",
        "#This is the main function that we will use to generate samples\n",
        "def BPSK_Sample_Homodyne(alpha):\n",
        "    #Let's define the Strawberry Fields program, we will only use a single mode\n",
        "    prog = sf.Program(1)\n",
        "    #Let's define the Strawberry Fields engine, we will use the Gaussian backend\n",
        "    eng = sf.Engine('gaussian')\n",
        "\n",
        "    #The circuit will place a coherent state with complex amplitude alpha into mode 0, then measure homodyne\n",
        "    with prog.context as q:\n",
        "        sf.ops.Coherent(alpha)| q[0]\n",
        "        sf.ops.MeasureHomodyne(0) | q[0]\n",
        "\n",
        "    #Let's run the circuit\n",
        "    result = eng.run(prog)\n",
        "    #let's return the samples\n",
        "    return result.samples[0]"
      ]
    },
    {
      "cell_type": "code",
      "execution_count": null,
      "metadata": {
        "id": "Q8RGvblCxK9f"
      },
      "outputs": [],
      "source": [
        "#Now let's run it many times\n",
        "#print(BPSK_Sample_Homodyne(1)[0])\n",
        "\n",
        "sample_count=10000\n",
        "\n",
        "samples = np.zeros(sample_count)\n",
        "for i in range(sample_count):\n",
        "    samples[i]=BPSK_Sample_Homodyne(1)[0]\n",
        "\n",
        "#Let's plot the samples\n",
        "plt.hist(samples,1000)"
      ]
    },
    {
      "cell_type": "code",
      "execution_count": null,
      "metadata": {
        "id": "7bNiFyBpxK9f"
      },
      "outputs": [],
      "source": [
        "#Lets plot the coherent states in phase space\n",
        "#Let's define the Strawberry Fields program, we will only use a single mode\n",
        "prog = sf.Program(2)\n",
        "#Let's define the Strawberry Fields engine, we will use the Gaussian backend\n",
        "eng = sf.Engine('gaussian')\n",
        "\n",
        "alpha=1\n",
        "\n",
        "#The circuit will place a coherent state with complex amplitude alpha into mode 0, then measure homodyne\n",
        "with prog.context as q:\n",
        "    sf.ops.Coherent(alpha)| q[0]\n",
        "    sf.ops.Coherent(-alpha) | q[1]\n",
        "\n",
        "#Let's run the circuit\n",
        "result = eng.run(prog)\n",
        "\n",
        "#Let's visualize the state in mode 0\n",
        "x = np.linspace(-5, 5, 100) #This creates a 1D array of 100 points between -5 and 5\n",
        "y = result.state.wigner(0, x, x) #Returns pre-calculated Wigner function from the state of the quantum register\n",
        "X, Y = np.meshgrid(x, x) #Plotting\n",
        "plt.contourf(X, Y, y)\n",
        "plt.show()\n",
        "\n",
        "state = result.state\n",
        "fig1 = plt.figure()\n",
        "X = np.linspace(-5, 5, 100)\n",
        "P = np.linspace(-5, 5, 100)\n",
        "Z = state.wigner(0, X, P)\n",
        "X, P = np.meshgrid(X, P)\n",
        "ax = fig1.add_subplot(111, projection=\"3d\")\n",
        "fig1.set_size_inches(4.8, 5)\n",
        "ax.plot_surface(X, P, Z, cmap=\"RdYlGn\", lw=0.5, rstride=1, cstride=1)\n",
        "ax.set_axis_off()\n",
        "\n",
        "#Let's visualize the state in mode 1\n",
        "state = result.state\n",
        "fig2 = plt.figure()\n",
        "X = np.linspace(-5, 5, 100)\n",
        "P = np.linspace(-5, 5, 100)\n",
        "Z = state.wigner(1, X, P)\n",
        "X, P = np.meshgrid(X, P)\n",
        "ax = fig2.add_subplot(111, projection=\"3d\")\n",
        "fig2.set_size_inches(4.8, 5)\n",
        "ax.plot_surface(X, P, Z, cmap=\"RdYlGn\", lw=0.5, rstride=1, cstride=1)\n",
        "ax.set_axis_off()"
      ]
    },
    {
      "cell_type": "code",
      "execution_count": null,
      "metadata": {
        "id": "f3NbOHfSxK9f"
      },
      "outputs": [],
      "source": [
        "\n",
        "\n",
        "def Visualize_Fock_State(nVal):\n",
        "    #Let's define the Strawberry Fields program, we will only use a single mode\n",
        "    prog = sf.Program(1)\n",
        "    #Let's define the Strawberry Fields engine, we will use the Gaussian backend\n",
        "    eng = sf.Engine('fock', backend_options={'cutoff_dim': nVal+1})\n",
        "\n",
        "    #The circuit will place a coherent state with complex amplitude alpha into mode 0, then measure homodyne\n",
        "    with prog.context as q:\n",
        "        sf.ops.Fock(nVal)| q[0]\n",
        "\n",
        "    #Let's run the circuit\n",
        "    result = eng.run(prog)\n",
        "    #let's return the samples\n",
        "\n",
        "    #Let's Plot the Wigner Function of the Fock State\n",
        "    x = np.linspace(-5, 5, 100) #This creates a 1D array of 100 points between -5 and 5\n",
        "    y = result.state.wigner(0, x, x) #Returns pre-calculated Wigner function from the state of the quantum register\n",
        "    X, Y = np.meshgrid(x, x) #Plotting\n",
        "    plt.contourf(X, Y, y)\n",
        "    plt.show()\n",
        "\n",
        "    state = result.state\n",
        "    fig = plt.figure()\n",
        "    X = np.linspace(-5, 5, 100)\n",
        "    P = np.linspace(-5, 5, 100)\n",
        "    Z = state.wigner(0, X, P)\n",
        "    X, P = np.meshgrid(X, P)\n",
        "    ax = fig.add_subplot(111, projection=\"3d\")\n",
        "    fig.set_size_inches(4.8, 5)\n",
        "    ax.plot_surface(X, P, Z, cmap=\"RdYlGn\", lw=0.5, rstride=1, cstride=1)\n",
        "    ax.set_axis_off()\n",
        "\n",
        "    return"
      ]
    },
    {
      "cell_type": "code",
      "execution_count": null,
      "metadata": {
        "id": "4DYANvnzxK9g"
      },
      "outputs": [],
      "source": [
        "Visualize_Fock_State(4)"
      ]
    },
    {
      "cell_type": "code",
      "execution_count": null,
      "metadata": {
        "id": "VuOKeVjexK9g"
      },
      "outputs": [],
      "source": [
        "#SECTION 2 STARTS HERE"
      ]
    },
    {
      "cell_type": "code",
      "execution_count": null,
      "metadata": {
        "id": "8mAdY83LxK9g"
      },
      "outputs": [],
      "source": [
        "#Define Mutual Information Function\n",
        "def mutual_information(p_y_given_x, p_x):\n",
        "    p_y = np.sum(p_y_given_x * p_x[:, np.newaxis], axis=0)\n",
        "    p_x_y = p_y_given_x * p_x[:, np.newaxis]\n",
        "    log_p_x_y = np.log2(p_x_y, where=(p_x_y != 0))\n",
        "    log_p_x = np.log2(p_x, where=(p_x != 0))\n",
        "    log_p_y = np.log2(p_y, where=(p_y != 0))\n",
        "    mi = np.sum(p_x_y * (log_p_x_y - log_p_x[:, np.newaxis] - log_p_y))\n",
        "    return mi\n",
        "\n",
        "#Define Binary Entropy Function\n",
        "def binEnt(pVal):\n",
        "    h2Val= -pVal*np.log2(pVal)-(1-pVal)*np.log2(1-pVal)\n",
        "    return h2Val"
      ]
    },
    {
      "cell_type": "code",
      "execution_count": null,
      "metadata": {
        "id": "V7DcDey9xK9g"
      },
      "outputs": [],
      "source": [
        "#Example calculating TPM for Homodyne\n",
        "\n",
        "#We will use our earlier homodyne sampling function to build a TPM\n",
        "\n",
        "sample_count=10000\n",
        "\n",
        "TPM=np.zeros((2,2))\n",
        "\n",
        "alpha=1\n",
        "\n",
        "for x in range(2):\n",
        "    alpha_val=alpha*(-1)**x\n",
        "    for i in range(sample_count):\n",
        "        sample=BPSK_Sample_Homodyne(alpha_val)[0]\n",
        "        if sample>0:\n",
        "            TPM[x,0]=TPM[x,0]+1\n",
        "        else:\n",
        "            TPM[x,1]=TPM[x,1]+1\n",
        "\n",
        "#Normalize the TPM\n",
        "for x in range(2):\n",
        "    TPM[x,:]=TPM[x,:]/sample_count\n",
        "\n",
        "print(TPM)\n",
        "\n",
        "#Let's calculate the mutual information, assumping equal priors\n",
        "p_x=np.array([0.5,0.5])\n",
        "p_y_given_x=TPM\n",
        "mi=mutual_information(p_y_given_x, p_x)\n",
        "print(mi)\n"
      ]
    },
    {
      "cell_type": "code",
      "execution_count": null,
      "metadata": {
        "id": "haEhqIgjxK9g"
      },
      "outputs": [],
      "source": [
        "#Lets plot the functional capacities (in the form of PIE) of a few different BPSK receivers\n",
        "\n",
        "steps=25\n",
        "mean_arr=np.logspace(-4,1,steps)\n",
        "cap_arr=np.zeros((steps,12))\n",
        "hom_arr=1-binEnt(erfc(np.sqrt(2*mean_arr))/2)\n",
        "dol_arr=1-binEnt((1-np.sqrt(1-np.exp(-4*mean_arr)))/2)\n",
        "hol_arr=binEnt((1-np.exp(-2*mean_arr))/2)\n",
        "het_arr=1-binEnt(erfc(np.sqrt(mean_arr))/2)\n",
        "\n",
        "for k in range(10):\n",
        "    mVal=2**(k+1)\n",
        "    for n in range(steps):\n",
        "        cap_arr[n,k]=(1-np.exp(-mVal*mean_arr[n]))*np.log2(mVal)/(mVal-1)\n",
        "    mStr=\"Reduced GM\"+str(mVal)\n",
        "    plt.plot(mean_arr,cap_arr[:,k]/mean_arr[:],label=mStr)\n",
        "\n",
        "plt.plot(mean_arr,dol_arr/mean_arr,'r--',label='Dolinar')\n",
        "plt.plot(mean_arr,hom_arr/mean_arr,'b--',label=\"Homodyne\")\n",
        "plt.plot(mean_arr,het_arr/mean_arr,'g--',label='Heterodyne')\n",
        "plt.plot(mean_arr,hol_arr/mean_arr,'black',label='BPSK Holevo')\n",
        "plt.title(\"Photon Information Efficiency vs Mean Photon Number, BPSK + Receiver\")\n",
        "plt.xlabel(\"Mean Photon Number (N)\")\n",
        "plt.ylabel(\"PIE (C(N)/N)\")\n",
        "plt.xscale('log')\n",
        "plt.grid()\n",
        "plt.legend()"
      ]
    },
    {
      "cell_type": "code",
      "execution_count": null,
      "metadata": {
        "id": "MJfqZrh3xK9g"
      },
      "outputs": [],
      "source": []
    }
  ],
  "metadata": {
    "kernelspec": {
      "display_name": "py39",
      "language": "python",
      "name": "py39"
    },
    "language_info": {
      "codemirror_mode": {
        "name": "ipython",
        "version": 3
      },
      "file_extension": ".py",
      "mimetype": "text/x-python",
      "name": "python",
      "nbconvert_exporter": "python",
      "pygments_lexer": "ipython3",
      "version": "3.9.16"
    },
    "colab": {
      "provenance": []
    }
  },
  "nbformat": 4,
  "nbformat_minor": 0
}